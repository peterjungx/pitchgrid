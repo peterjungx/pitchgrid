{
 "cells": [
  {
   "cell_type": "code",
   "execution_count": 2,
   "metadata": {},
   "outputs": [],
   "source": [
    "\n",
    "import re\n",
    "import os\n",
    "import shutil\n",
    "\n",
    "\n",
    "def copyFromObsidian(source):\n",
    "    images_target_folder = \"/Users/peter/Projects/Music/SOMATerra/pitchgrid/static/docs/images\"\n",
    "\n",
    "    path, file = os.path.split(source)\n",
    "    text = open(source, \"r\").read()\n",
    "\n",
    "    # find linked images, i.e. extract abc from ![[abc|def]] or ![[abc]] (where no | in abc)\n",
    "    linked_images = re.findall(r\"!\\[\\[(.*?)\\|.*?\\]\\]\", text) + re.findall(r\"!\\[\\[(.*?)\\]\\]\", text)\n",
    "    # filter out those with | in them\n",
    "    linked_images = [img for img in linked_images if \"|\" not in img]\n",
    "    \n",
    "    for img in linked_images:\n",
    "        # check if file exists\n",
    "        p = path\n",
    "        while not os.path.isfile(os.path.join(p,img)):\n",
    "            p = os.path.split(p)[0]\n",
    "            if p == \"/Users/peter\":\n",
    "                break\n",
    "        if not os.path.isfile(os.path.join(p,img)):\n",
    "            print(f\"File {img} not found\")\n",
    "            continue\n",
    "        print(f\"Copying {img}\")\n",
    "        # copy file, replacing spaces with underscores\n",
    "\n",
    "        new_img = img.replace(' ','_')\n",
    "\n",
    "        shutil.copyfile(os.path.join(p,img), os.path.join(images_target_folder,img.replace(' ','_')))\n",
    "        # replace in text\n",
    "        text = text.replace(f\"![[{img}\", f\"![[{new_img}\")\n",
    "\n",
    "    # replace ![[abc|def]] with !(abc)[abc \"def\"] while changing name (replace spaces with underscores, prepend path)\n",
    "    #f = re.sub(r\"!\\[\\[(.*?)\\|(.*?)\\]\\]\", r\"!([\\1](\\1 \\\"\\2\\\"))\", f)\n",
    "\n",
    "\n",
    "    text = re.sub(r\"!\\[\\[(.*?)\\|(.*?)\\]\\]\", r'![\\1](/docs/images/\\1 \"\\2\")', text)\n",
    "\n",
    "    # replace ![[abc]] with !(abc)[abc] while changing name (replace spaces with underscores, prepend path)\n",
    "    text = re.sub(r\"!\\[\\[(.*?)\\]\\]\", r\"![\\1](/docs/images/\\1)\", text)\n",
    "\n",
    "\n",
    "    # insert newlines after images\n",
    "    text = re.sub(r\"!\\[.*?\\]\\(.*?\\)\", r\"\\g<0>\\n\", text)\n",
    "\n",
    "    # write to new file\n",
    "    target_file = f\"/Users/peter/Projects/Music/SOMATerra/pitchgrid/static/docs/{file}\"\n",
    "    with open(target_file, \"w\") as f:\n",
    "        f.write(text)\n",
    "\n"
   ]
  },
  {
   "cell_type": "code",
   "execution_count": null,
   "metadata": {},
   "outputs": [],
   "source": [
    "copyFromObsidian(\"/Users/peter/Documents/ObsidianVault/Music/PitchGrid VCV/PitchGrid MicroExquis.md\")\n"
   ]
  },
  {
   "cell_type": "code",
   "execution_count": 3,
   "metadata": {},
   "outputs": [
    {
     "name": "stdout",
     "output_type": "stream",
     "text": [
      "Copying Screenshot 2024-08-20 at 16.42.51.png\n",
      "Copying Traditional_indonesian_instruments04.jpg\n",
      "Copying Screenshot 2024-08-20 at 17.08.49.png\n",
      "Copying Screenshot 2024-08-20 at 17.17.10.png\n",
      "Copying Screenshot 2024-08-08 at 20.19.39.png\n",
      "Copying Screenshot 2024-08-08 at 20.20.33.png\n",
      "Copying Screenshot 2024-08-08 at 20.52.36.png\n",
      "Copying Screenshot 2024-08-20 at 22.09.59.png\n",
      "Copying Screenshot 2024-08-20 at 22.16.56.png\n",
      "Copying Screenshot 2024-08-20 at 22.28.24.png\n",
      "Copying Screenshot 2024-08-20 at 22.37.58.png\n",
      "Copying Screenshot 2024-08-15 at 17.11.19.png\n",
      "Copying Screenshot 2024-08-15 at 21.58.52.png\n",
      "Copying Screenshot 2024-08-15 at 17.09.17.png\n"
     ]
    }
   ],
   "source": [
    "copyFromObsidian(\"/Users/peter/Documents/ObsidianVault/Music/The PitchGrid - Doing Microtonality with Structure.md\")\n"
   ]
  },
  {
   "cell_type": "code",
   "execution_count": null,
   "metadata": {},
   "outputs": [],
   "source": []
  }
 ],
 "metadata": {
  "kernelspec": {
   "display_name": "Python 3",
   "language": "python",
   "name": "python3"
  },
  "language_info": {
   "codemirror_mode": {
    "name": "ipython",
    "version": 3
   },
   "file_extension": ".py",
   "mimetype": "text/x-python",
   "name": "python",
   "nbconvert_exporter": "python",
   "pygments_lexer": "ipython3",
   "version": "3.11.6"
  }
 },
 "nbformat": 4,
 "nbformat_minor": 2
}
