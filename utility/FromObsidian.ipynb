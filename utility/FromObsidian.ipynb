{
 "cells": [
  {
   "cell_type": "code",
   "execution_count": 25,
   "metadata": {},
   "outputs": [
    {
     "name": "stdout",
     "output_type": "stream",
     "text": [
      "Copying Screenshot 2024-10-04 at 21.44.34.png\n",
      "Copying Screenshot 2024-10-04 at 21.46.32.png\n",
      "Copying IMG_4098 2.jpg\n",
      "Copying Screenshot 2024-10-01 at 13.28.37.png\n",
      "Copying Screenshot 2024-10-01 at 10.58.23.png\n",
      "Copying Screenshot 2024-10-04 at 22.06.45.png\n",
      "Copying Screenshot 2024-10-04 at 22.05.47.png\n",
      "Copying Screenshot 2024-10-01 at 13.09.10.png\n",
      "Copying Screenshot 2024-10-01 at 13.15.22.png\n",
      "Copying Screenshot 2024-10-01 at 13.24.22.png\n",
      "Copying Screenshot 2024-10-01 at 13.32.08.png\n",
      "Copying Screenshot 2024-10-01 at 14.01.07.png\n",
      "Copying Screenshot 2024-10-01 at 14.13.36.png\n",
      "Copying Screenshot 2024-10-01 at 14.33.10.png\n",
      "Copying Screenshot 2024-10-04 at 23.47.57.png\n",
      "Copying Screenshot 2024-10-04 at 22.45.37.png\n",
      "Copying Screenshot 2024-10-04 at 22.45.52.png\n"
     ]
    }
   ],
   "source": [
    "\n",
    "import re\n",
    "import os\n",
    "import shutil\n",
    "\n",
    "\n",
    "def copyFromObsidian(source):\n",
    "    images_target_folder = \"/Users/peter/Projects/Music/SOMATerra/pitchgrid/static/docs/images\"\n",
    "\n",
    "    path, file = os.path.split(source)\n",
    "    text = open(source, \"r\").read()\n",
    "\n",
    "    # find linked images, i.e. extract abc from ![[abc|def]] or ![[abc]] (where no | in abc)\n",
    "    linked_images = re.findall(r\"!\\[\\[(.*?)\\|.*?\\]\\]\", text) + re.findall(r\"!\\[\\[(.*?)\\]\\]\", text)\n",
    "    # filter out those with | in them\n",
    "    linked_images = [img for img in linked_images if \"|\" not in img]\n",
    "    \n",
    "    for img in linked_images:\n",
    "        # check if file exists\n",
    "        p = path\n",
    "        while not os.path.isfile(os.path.join(p,img)):\n",
    "            p = os.path.split(p)[0]\n",
    "            if p == \"/Users/peter\":\n",
    "                break\n",
    "        if not os.path.isfile(os.path.join(p,img)):\n",
    "            print(f\"File {img} not found\")\n",
    "            continue\n",
    "        print(f\"Copying {img}\")\n",
    "        # copy file, replacing spaces with underscores\n",
    "\n",
    "        new_img = img.replace(' ','_')\n",
    "\n",
    "        shutil.copyfile(os.path.join(p,img), os.path.join(images_target_folder,img.replace(' ','_')))\n",
    "        # replace in text\n",
    "        text = text.replace(f\"![[{img}\", f\"![[{new_img}\")\n",
    "\n",
    "    # replace ![[abc|def]] with !(abc)[abc \"def\"] while changing name (replace spaces with underscores, prepend path)\n",
    "    #f = re.sub(r\"!\\[\\[(.*?)\\|(.*?)\\]\\]\", r\"!([\\1](\\1 \\\"\\2\\\"))\", f)\n",
    "\n",
    "\n",
    "    text = re.sub(r\"!\\[\\[(.*?)\\|(.*?)\\]\\]\", r'![\\1](docs/images/\\1 \"\\2\")', text)\n",
    "\n",
    "    # replace ![[abc]] with !(abc)[abc] while changing name (replace spaces with underscores, prepend path)\n",
    "    text = re.sub(r\"!\\[\\[(.*?)\\]\\]\", r\"![\\1](docs/images/\\1)\", text)\n",
    "\n",
    "\n",
    "    # insert newlines after images\n",
    "    text = re.sub(r\"!\\[.*?\\]\\(.*?\\)\", r\"\\g<0>\\n\", text)\n",
    "\n",
    "    # write to new file\n",
    "    target_file = f\"/Users/peter/Projects/Music/SOMATerra/pitchgrid/src/routes/docs/{file}\"\n",
    "    with open(target_file, \"w\") as f:\n",
    "        f.write(text)\n",
    "\n",
    "\n",
    "\n",
    "copyFromObsidian(\"/Users/peter/Documents/ObsidianVault/Music/PitchGrid VCV/PitchGrid MicroExquis.md\")\n",
    "\n",
    "\n",
    "\n",
    "\n"
   ]
  },
  {
   "cell_type": "code",
   "execution_count": null,
   "metadata": {},
   "outputs": [],
   "source": []
  }
 ],
 "metadata": {
  "kernelspec": {
   "display_name": "Python 3",
   "language": "python",
   "name": "python3"
  },
  "language_info": {
   "codemirror_mode": {
    "name": "ipython",
    "version": 3
   },
   "file_extension": ".py",
   "mimetype": "text/x-python",
   "name": "python",
   "nbconvert_exporter": "python",
   "pygments_lexer": "ipython3",
   "version": "3.11.6"
  }
 },
 "nbformat": 4,
 "nbformat_minor": 2
}
